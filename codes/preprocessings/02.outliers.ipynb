{
 "cells": [
  {
   "cell_type": "markdown",
   "metadata": {},
   "source": [
    "## 이상치 처리\n",
    "- 확인 방법 : IQR 사용\n",
    "- 처리 방식 : 삭제, 변환(범위 내 값으로 변경)"
   ]
  },
  {
   "cell_type": "markdown",
   "metadata": {},
   "source": []
  }
 ],
 "metadata": {
  "language_info": {
   "name": "python"
  }
 },
 "nbformat": 4,
 "nbformat_minor": 2
}

{
 "cells": [
  {
   "cell_type": "markdown",
   "metadata": {},
   "source": [
    "## 결측치 처리\n",
    "- 비어 있는 값을 삭제\n",
    "- 비어 있는 값을 알맞게 채움\n",
    "    + 평균, 중앙값과 같은 대표값\n",
    "    + 머신러닝 사용"
   ]
  },
  {
   "cell_type": "markdown",
   "metadata": {},
   "source": []
  }
 ],
 "metadata": {
  "language_info": {
   "name": "python"
  }
 },
 "nbformat": 4,
 "nbformat_minor": 2
}
